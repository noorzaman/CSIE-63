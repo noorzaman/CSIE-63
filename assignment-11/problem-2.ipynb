{
 "cells": [
  {
   "cell_type": "code",
   "execution_count": 1,
   "metadata": {},
   "outputs": [],
   "source": [
    "# Simple logistic regression model to solve OCR task \n",
    "# with MNIST in TensorFlow\n",
    "# MNIST dataset: yann.lecun.com/exdb/mnist/"
   ]
  },
  {
   "cell_type": "markdown",
   "metadata": {},
   "source": [
    "# Problem Statement\n",
    "1. Consider the attached file logistic_regression_mnist.py. \n",
    "2. Search through TensorFlow API documentation and the Internet and describe for us what is the meaning and purpose of functions used in step 5 and step 6. \n",
    "3. Demonstrate that you can run the code successfully. \n",
    "4. Fetch for us the TensorBoard Graph. \n",
    "5. Vary parameter batch_size through values: 8, 64, 128, 256 and report and plot changes in the execution time and accuracy. \n",
    "6. Keep other parameters the same as in the original program. Similarly, vary parameter learning_rate through values 0.001, 0.005, 0.01, 0.02 and 0.05. \n",
    "7. Report and plot changes in the execution time and accuracy. "
   ]
  },
  {
   "cell_type": "code",
   "execution_count": 2,
   "metadata": {},
   "outputs": [
    {
     "name": "stderr",
     "output_type": "stream",
     "text": [
      "/usr/local/lib/python2.7/site-packages/matplotlib/font_manager.py:273: UserWarning: Matplotlib is building the font cache using fc-list. This may take a moment.\n",
      "  warnings.warn('Matplotlib is building the font cache using fc-list. This may take a moment.')\n"
     ]
    }
   ],
   "source": [
    "import tensorflow as tf\n",
    "import numpy as np\n",
    "from tensorflow.examples.tutorials.mnist import input_data\n",
    "import time\n",
    "import matplotlib.pyplot as plt"
   ]
  },
  {
   "cell_type": "code",
   "execution_count": 3,
   "metadata": {
    "collapsed": true
   },
   "outputs": [],
   "source": [
    "# Define paramaters for the model\n",
    "learning_rate = 0.01\n",
    "# batch_size = [8, 64, 128, 256]\n",
    "batch_size = 128\n",
    "n_epochs = 30"
   ]
  },
  {
   "cell_type": "code",
   "execution_count": 4,
   "metadata": {},
   "outputs": [
    {
     "name": "stdout",
     "output_type": "stream",
     "text": [
      "Extracting ./mnist/train-images-idx3-ubyte.gz\n",
      "Extracting ./mnist/train-labels-idx1-ubyte.gz\n",
      "Extracting ./mnist/t10k-images-idx3-ubyte.gz\n",
      "Extracting ./mnist/t10k-labels-idx1-ubyte.gz\n"
     ]
    }
   ],
   "source": [
    "# Step 1: Read in data\n",
    "# using TF Learn's built in function to load MNIST data to the folder mnist\n",
    "mnist = input_data.read_data_sets('./mnist', one_hot=True) "
   ]
  },
  {
   "cell_type": "code",
   "execution_count": 5,
   "metadata": {
    "collapsed": true
   },
   "outputs": [],
   "source": [
    "# Step 2: create placeholders for features and labels\n",
    "# each image in the MNIST data is of shape 28*28 = 784\n",
    "# therefore, each image is represented with a 1x784 tensor\n",
    "# there are 10 classes for each image, corresponding to digits 0 - 9. \n",
    "# each lable is one hot vector.\n",
    "X = tf.placeholder(tf.float32, [batch_size, 784], name='X_placeholder') \n",
    "Y = tf.placeholder(tf.float32, [batch_size, 10], name='Y_placeholder')"
   ]
  },
  {
   "cell_type": "code",
   "execution_count": 6,
   "metadata": {
    "collapsed": true
   },
   "outputs": [],
   "source": [
    "# Step 3: create weights and bias\n",
    "# w is initialized to random variables with mean of 0, stddev of 0.01\n",
    "# b is initialized to 0\n",
    "# shape of w depends on the dimension of X and Y so that Y = tf.matmul(X, w)\n",
    "# shape of b depends on Y\n",
    "w = tf.Variable(tf.random_normal(shape=[784, 10], stddev=0.01), name='weights')\n",
    "b = tf.Variable(tf.zeros([1, 10]), name=\"bias\")"
   ]
  },
  {
   "cell_type": "code",
   "execution_count": 7,
   "metadata": {
    "collapsed": true
   },
   "outputs": [],
   "source": [
    "# Step 4: build model\n",
    "# the model that returns the logits.\n",
    "# this logits will be later passed through softmax layer\n",
    "logits = tf.matmul(X, w) + b"
   ]
  },
  {
   "cell_type": "code",
   "execution_count": 8,
   "metadata": {
    "collapsed": true
   },
   "outputs": [],
   "source": [
    "# Step 5: define loss function\n",
    "# use cross entropy of softmax of logits as the loss function\n",
    "entropy = tf.nn.softmax_cross_entropy_with_logits(logits=logits,labels=Y, name='loss')\n",
    "loss = tf.reduce_mean(entropy) # computes the mean over all the examples in the batch"
   ]
  },
  {
   "cell_type": "code",
   "execution_count": 9,
   "metadata": {
    "collapsed": true
   },
   "outputs": [],
   "source": [
    "# Step 6: define training op\n",
    "# using gradient descent with learning rate of 0.01 to minimize loss\n",
    "optimizer = tf.train.GradientDescentOptimizer(learning_rate).minimize(loss)"
   ]
  },
  {
   "cell_type": "code",
   "execution_count": 10,
   "metadata": {},
   "outputs": [
    {
     "name": "stdout",
     "output_type": "stream",
     "text": [
      "Average loss epoch 0: 1.28869297593\n",
      "Average loss epoch 1: 0.732997492477\n",
      "Average loss epoch 2: 0.600584483091\n",
      "Average loss epoch 3: 0.53683312074\n",
      "Average loss epoch 4: 0.497764433042\n",
      "Average loss epoch 5: 0.472195458162\n",
      "Average loss epoch 6: 0.45011702555\n",
      "Average loss epoch 7: 0.436941364151\n",
      "Average loss epoch 8: 0.422752981211\n",
      "Average loss epoch 9: 0.414043052908\n",
      "Average loss epoch 10: 0.403970642002\n",
      "Average loss epoch 11: 0.398303052415\n",
      "Average loss epoch 12: 0.389086166253\n",
      "Average loss epoch 13: 0.384626022516\n",
      "Average loss epoch 14: 0.378921993129\n",
      "Average loss epoch 15: 0.375756940815\n",
      "Average loss epoch 16: 0.369875183403\n",
      "Average loss epoch 17: 0.366797885486\n",
      "Average loss epoch 18: 0.3625113582\n",
      "Average loss epoch 19: 0.359498616525\n",
      "Average loss epoch 20: 0.357478011182\n",
      "Average loss epoch 21: 0.35475778215\n",
      "Average loss epoch 22: 0.350648510289\n",
      "Average loss epoch 23: 0.348126383928\n",
      "Average loss epoch 24: 0.346712391138\n",
      "Average loss epoch 25: 0.344206429028\n",
      "Average loss epoch 26: 0.341300262438\n",
      "Average loss epoch 27: 0.341346549265\n",
      "Average loss epoch 28: 0.337855134776\n",
      "Average loss epoch 29: 0.337712307702\n",
      "Total time: 12.7977859974 seconds\n",
      "Optimization Finished!\n",
      "Accuracy 0.9116\n"
     ]
    }
   ],
   "source": [
    "with tf.Session() as sess:\n",
    "\t# to visualize using TensorBoard\n",
    "\twriter = tf.summary.FileWriter('./logistic_reg', sess.graph)\n",
    "\n",
    "\tstart_time = time.time()\n",
    "\tsess.run(tf.global_variables_initializer())\t\n",
    "\tn_batches = int(mnist.train.num_examples/batch_size)\n",
    "\tfor i in range(n_epochs): # train the model n_epochs times\n",
    "\t\ttotal_loss = 0\n",
    "\n",
    "\t\tfor _ in range(n_batches):\n",
    "\t\t\tX_batch, Y_batch = mnist.train.next_batch(batch_size)\n",
    "\t\t\t_, loss_batch = sess.run([optimizer, loss], feed_dict={X: X_batch, Y:Y_batch}) \n",
    "\t\t\ttotal_loss += loss_batch\n",
    "\t\tprint ('Average loss epoch {0}: {1}'.format(i, total_loss/n_batches))\n",
    "\n",
    "\tprint ('Total time: {0} seconds'.format(time.time() - start_time))\n",
    "\n",
    "\tprint('Optimization Finished!') # should be around 0.35 after 25 epochs\n",
    "\n",
    "\t# test the model\n",
    "\tn_batches = int(mnist.test.num_examples/batch_size)\n",
    "\ttotal_correct_preds = 0\n",
    "\tfor i in range(n_batches):\n",
    "\t\tX_batch, Y_batch = mnist.test.next_batch(batch_size)\n",
    "\t\t_, loss_batch, logits_batch = sess.run([optimizer, loss, logits], feed_dict={X: X_batch, Y:Y_batch}) \n",
    "\t\tpreds = tf.nn.softmax(logits_batch)\n",
    "\t\tcorrect_preds = tf.equal(tf.argmax(preds, 1), tf.argmax(Y_batch, 1))\n",
    "\t\taccuracy = tf.reduce_sum(tf.cast(correct_preds, tf.float32))\n",
    "\t\ttotal_correct_preds += sess.run(accuracy)\t\n",
    "\t\n",
    "\tprint ('Accuracy {0}'.format(total_correct_preds/mnist.test.num_examples))\n",
    "\n",
    "\twriter.close()\n"
   ]
  },
  {
   "cell_type": "code",
   "execution_count": 11,
   "metadata": {
    "collapsed": true
   },
   "outputs": [],
   "source": [
    "# Vary parameter batch_size through values: 8, 64, 128, 256 and report and plot changes in the execution time and accuracy.\n",
    "# Keep other parameters the same as in the original program. Similarly, vary parameter learning_rate through values 0.001, 0.005, 0.01, 0.02 and 0.05.\n",
    "# Report and plot changes in the execution time and accuracy."
   ]
  },
  {
   "cell_type": "code",
   "execution_count": 16,
   "metadata": {},
   "outputs": [
    {
     "data": {
      "image/png": "[encoded data removed]",
      "text/plain": [
       "<matplotlib.figure.Figure at 0x124061d10>"
      ]
     },
     "metadata": {},
     "output_type": "display_data"
    }
   ],
   "source": [
    "# input test results\n",
    "batch_size = [8, 64, 128, 256]\n",
    "time_1 = [121.864, 34.887, 28.756, 22.691]\n",
    "accuracy_1 = [0.9251, 0.9167, 0.9118, 0.9043]\n",
    "\n",
    "learning_rate = [0.001, 0.005, 0.01, 0.02, 0.05]\n",
    "time_2 = [28.8654, 28.575, 28.756, 28.957, 29.525]\n",
    "accuracy_2 = [0.8763, 0.9034, 0.9118, 0.9167, 0.9211]\n",
    "\n",
    "# plot with various axes scales\n",
    "plt.figure(1)\n",
    "\n",
    "# test1\n",
    "plt.subplot(221)\n",
    "plt.plot(batch_size, time_1, \"g\")\n",
    "plt.ylabel('Time')\n",
    "plt.grid(True)\n",
    "\n",
    "# test2\n",
    "plt.subplot(222)\n",
    "plt.plot(learning_rate, time_2, \"g\")\n",
    "plt.grid(True)\n",
    "\n",
    "# test3\n",
    "plt.subplot(223)\n",
    "plt.plot(batch_size, accuracy_1, \"r\")\n",
    "plt.ylabel('Accurancy')\n",
    "plt.xlabel('Batch Size')\n",
    "plt.grid(True)\n",
    "\n",
    "# test4\n",
    "plt.subplot(224)\n",
    "plt.plot(learning_rate, accuracy_2, \"r\")\n",
    "plt.xlabel('Learning Rate')\n",
    "plt.grid(True)\n",
    "\n",
    "plt.subplots_adjust(top=0.92, bottom=0.15, left=0.1, right=0.95, hspace=0.25,\n",
    "                    wspace=0.25)\n",
    "\n",
    "plt.show()"
   ]
  },
  {
   "cell_type": "code",
   "execution_count": null,
   "metadata": {
    "collapsed": true
   },
   "outputs": [],
   "source": []
  }
 ],
 "metadata": {
  "kernelspec": {
   "display_name": "Python 2",
   "language": "python",
   "name": "python2"
  },
  "language_info": {
   "codemirror_mode": {
    "name": "ipython",
    "version": 2
   },
   "file_extension": ".py",
   "mimetype": "text/x-python",
   "name": "python",
   "nbconvert_exporter": "python",
   "pygments_lexer": "ipython2",
   "version": "2.7.14"
  }
 },
 "nbformat": 4,
 "nbformat_minor": 2
}
