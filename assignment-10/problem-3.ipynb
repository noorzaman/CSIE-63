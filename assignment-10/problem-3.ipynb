{
 "cells": [
  {
   "cell_type": "code",
   "execution_count": 46,
   "metadata": {},
   "outputs": [
    {
     "name": "stderr",
     "output_type": "stream",
     "text": [
      "/usr/local/lib/python2.7/site-packages/matplotlib/font_manager.py:273: UserWarning: Matplotlib is building the font cache using fc-list. This may take a moment.\n",
      "  warnings.warn('Matplotlib is building the font cache using fc-list. This may take a moment.')\n"
     ]
    }
   ],
   "source": [
    "import tensorflow as tf\n",
    "import numpy as np\n",
    "import matplotlib.pylab as plt"
   ]
  },
  {
   "cell_type": "code",
   "execution_count": null,
   "metadata": {
    "collapsed": true
   },
   "outputs": [],
   "source": [
    "# Determine the value of number e = 2.7183… to 6 decimal places using Taylor expansion. \n",
    "# Export the TensorBoard graph of your process. \n",
    "# Perform similar calculation using expression for e as lim┬(n → ∞)⁡〖〖(1+ 1/n)〗^n 〗. \n",
    "# Again export the TensorBoard graph of you process. Provide working code for both approaches.\n",
    "\n",
    "# n:  1, sum of series: 1.000000000\n",
    "# n:  2, sum of series: 2.000000000\n",
    "# n:  3, sum of series: 2.500000000\n",
    "# n:  4, sum of series: 2.666666667\n",
    "# n:  5, sum of series: 2.708333333\n",
    "# n:  6, sum of series: 2.716666667\n",
    "# n:  7, sum of series: 2.718055556\n",
    "\n",
    "\n",
    "#((1 + 1/n))^n"
   ]
  },
  {
   "cell_type": "code",
   "execution_count": 133,
   "metadata": {
    "collapsed": true
   },
   "outputs": [],
   "source": [
    "def num_after_point(x):\n",
    "    s = str(x)\n",
    "    if not '.' in s:\n",
    "        return 0\n",
    "    return len(s) - s.index('.') - 1"
   ]
  },
  {
   "cell_type": "code",
   "execution_count": 265,
   "metadata": {},
   "outputs": [
    {
     "name": "stdout",
     "output_type": "stream",
     "text": [
      "n:1, sum of series: 1.00000000000000000000)\n",
      "1\n",
      "n:2, sum of series: 2.00000000000000000000)\n",
      "1\n",
      "n:3, sum of series: 2.25000000000000000000)\n",
      "2\n",
      "n:4, sum of series: 2.28731983699441876468)\n",
      "11\n",
      "n:5, sum of series: 2.29238379904733502457)\n",
      "11\n",
      "n:6, sum of series: 2.29306172686631937196)\n",
      "11\n",
      "n:7, sum of series: 2.29315231843019340374)\n",
      "11\n",
      "n:8, sum of series: 2.29316442125037456279)\n",
      "11\n",
      "n:9, sum of series: 2.29316603810625929682)\n",
      "11\n",
      "n:10, sum of series: 2.29316625410646279803)\n",
      "11\n",
      "n:11, sum of series: 2.29316628296250435426)\n",
      "11\n",
      "n:12, sum of series: 2.29316628681745937612)\n",
      "11\n",
      "n:13, sum of series: 2.29316628733245364558)\n",
      "11\n",
      "n:14, sum of series: 2.29316628740125283414)\n",
      "10\n",
      "n:15, sum of series: 2.29316628741044414852)\n",
      "11\n",
      "n:16, sum of series: 2.29316628741167161110)\n",
      "11\n",
      "n:17, sum of series: 2.29316628741183592410)\n",
      "11\n",
      "n:18, sum of series: 2.29316628741185724039)\n",
      "11\n",
      "n:19, sum of series: 2.29316628741186034901)\n",
      "11\n",
      "n:20, sum of series: 2.29316628741186079310)\n",
      "11\n",
      "n:21, sum of series: 2.29316628741186123719)\n",
      "11\n"
     ]
    }
   ],
   "source": [
    "# Attempt at problem in Python first\n",
    "n = 1.0\n",
    "count = 1\n",
    "while True: \n",
    "    print((\"n:{0}, sum of series: {1})\").format(count, '%.20f'%(n)))\n",
    "    print num_after_point(n) \n",
    "    if n >= 2.718281:\n",
    "        break\n",
    "    # Temporary break to not have a ton of output    \n",
    "    if count > 20:\n",
    "        break\n",
    "    n = float((1.0+1.0/float(n)) ** float(n))\n",
    "    count += 1"
   ]
  },
  {
   "cell_type": "code",
   "execution_count": null,
   "metadata": {},
   "outputs": [
    {
     "name": "stdout",
     "output_type": "stream",
     "text": [
      "n:1, sum of series: 1.00000000000000000000)\n",
      "n:2, sum of series: 2.00000000000000000000)\n",
      "n:3, sum of series: 2.25000000000000000000)\n",
      "n:4, sum of series: 2.28731983699441876468)\n",
      "n:5, sum of series: 2.29238379904733502457)\n",
      "n:6, sum of series: 2.29306172686631937196)\n",
      "n:7, sum of series: 2.29315231843019340374)\n",
      "n:8, sum of series: 2.29316442125037456279)\n",
      "n:9, sum of series: 2.29316603810625929682)\n",
      "n:10, sum of series: 2.29316625410646279803)\n",
      "n:11, sum of series: 2.29316628296250435426)\n",
      "n:12, sum of series: 2.29316628681745937612)\n",
      "n:13, sum of series: 2.29316628733245364558)\n",
      "n:14, sum of series: 2.29316628740125283414)\n",
      "n:15, sum of series: 2.29316628741044414852)\n",
      "n:16, sum of series: 2.29316628741167161110)\n",
      "n:17, sum of series: 2.29316628741183592410)\n",
      "n:18, sum of series: 2.29316628741185724039)\n",
      "n:19, sum of series: 2.29316628741186034901)\n",
      "n:20, sum of series: 2.29316628741186079310)\n",
      "n:21, sum of series: 2.29316628741186123719)\n",
      "[2.0, 2.25, 2.2873198369944188, 2.292383799047335, 2.2930617268663194, 2.2931523184301934, 2.2931644212503746, 2.2931660381062593, 2.2931662541064628, 2.2931662829625044, 2.2931662868174594, 2.2931662873324536, 2.2931662874012528, 2.2931662874104441, 2.2931662874116716, 2.2931662874118359, 2.2931662874118572, 2.2931662874118603, 2.2931662874118608, 2.2931662874118612]\n",
      "20\n"
     ]
    }
   ],
   "source": [
    "# Second attempt converting logic to TensorFlow\n",
    "import tensorflow as tf\n",
    "\n",
    "n = 1.0\n",
    "count = 0\n",
    "f = []\n",
    "\n",
    "while True:\n",
    "    ##### Counting to keep track of n number of iterations\n",
    "    count += 1\n",
    "    \n",
    "    print((\"n:{0}, sum of series: {1})\").format(count, '%.20f'%(n)))\n",
    "    ##### Temporary break to not have a ton of output    \n",
    "    if count > 20:\n",
    "        break\n",
    "    if n >= 2.718281:\n",
    "        break\n",
    "    ##### Taylor Series    \n",
    "    n = float((1.0+1.0/float(n)) ** float(n))\n",
    "    ##### Append to the array of values\n",
    "    f.append(tf.constant(n, dtype=tf.float64))\n",
    "    \n",
    "    \n",
    "##### Outputting the TF session    \n",
    "with tf.Session() as sess:\n",
    "    result = sess.run(f)\n",
    "    print result\n",
    "\n",
    "print(len(f))\n",
    "#### Writing graph to file\n",
    "tf.summary.FileWriter (\"problem_3\", sess.graph)"
   ]
  },
  {
   "cell_type": "code",
   "execution_count": null,
   "metadata": {
    "collapsed": true
   },
   "outputs": [],
   "source": []
  }
 ],
 "metadata": {
  "kernelspec": {
   "display_name": "Python 2",
   "language": "python",
   "name": "python2"
  },
  "language_info": {
   "codemirror_mode": {
    "name": "ipython",
    "version": 2
   },
   "file_extension": ".py",
   "mimetype": "text/x-python",
   "name": "python",
   "nbconvert_exporter": "python",
   "pygments_lexer": "ipython2",
   "version": "2.7.14"
  }
 },
 "nbformat": 4,
 "nbformat_minor": 2
}
