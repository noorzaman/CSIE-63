{
 "cells": [
  {
   "cell_type": "code",
   "execution_count": 46,
   "metadata": {},
   "outputs": [
    {
     "name": "stderr",
     "output_type": "stream",
     "text": [
      "/usr/local/lib/python2.7/site-packages/matplotlib/font_manager.py:273: UserWarning: Matplotlib is building the font cache using fc-list. This may take a moment.\n",
      "  warnings.warn('Matplotlib is building the font cache using fc-list. This may take a moment.')\n"
     ]
    }
   ],
   "source": [
    "import tensorflow as tf\n",
    "import numpy as np\n",
    "import matplotlib.pylab as plt"
   ]
  },
  {
   "cell_type": "code",
   "execution_count": null,
   "metadata": {
    "collapsed": true
   },
   "outputs": [],
   "source": [
    "# Determine the value of number e = 2.7183… to 6 decimal places using Taylor expansion. \n",
    "# Export the TensorBoard graph of your process. \n",
    "# Perform similar calculation using expression for e as lim┬(n → ∞)⁡〖〖(1+ 1/n)〗^n 〗. \n",
    "# Again export the TensorBoard graph of you process. Provide working code for both approaches.\n",
    "\n",
    "# n:  1, sum of series: 1.000000000\n",
    "# n:  2, sum of series: 2.000000000\n",
    "# n:  3, sum of series: 2.500000000\n",
    "# n:  4, sum of series: 2.666666667\n",
    "# n:  5, sum of series: 2.708333333\n",
    "# n:  6, sum of series: 2.716666667\n",
    "# n:  7, sum of series: 2.718055556\n",
    "\n",
    "\n",
    "#((1 + 1/n))^n"
   ]
  },
  {
   "cell_type": "code",
   "execution_count": null,
   "metadata": {
    "collapsed": true
   },
   "outputs": [],
   "source": [
    "import numpy as np\n",
    "i = 1\n",
    "taySum = 0\n",
    "while True:\n",
    "    addition = np.power(1+(1/i), i)\n",
    "    print addition\n",
    "    print abs(addition)\n",
    "    if abs(addition) < 1e-6:\n",
    "        break\n",
    "    taySum += addition\n",
    "    print('value: {}, addition: {}'.format(taySum, addition))\n",
    "    i += 1"
   ]
  },
  {
   "cell_type": "code",
   "execution_count": 133,
   "metadata": {
    "collapsed": true
   },
   "outputs": [],
   "source": [
    "def num_after_point(x):\n",
    "    s = str(x)\n",
    "    if not '.' in s:\n",
    "        return 0\n",
    "    return len(s) - s.index('.') - 1"
   ]
  },
  {
   "cell_type": "code",
   "execution_count": 198,
   "metadata": {},
   "outputs": [
    {
     "name": "stdout",
     "output_type": "stream",
     "text": [
      "n:1, sum of series: 1.00000000000000000000)\n",
      "1\n",
      "n:2, sum of series: 2.00000000000000000000)\n",
      "2\n",
      "n:3, sum of series: 2.25000000000000000000)\n",
      "11\n",
      "n:4, sum of series: 2.28731983699441876468)\n",
      "11\n",
      "n:5, sum of series: 2.29238379904733502457)\n",
      "11\n",
      "n:6, sum of series: 2.29306172686631937196)\n",
      "11\n",
      "n:7, sum of series: 2.29315231843019340374)\n",
      "11\n",
      "n:8, sum of series: 2.29316442125037456279)\n",
      "11\n",
      "n:9, sum of series: 2.29316603810625929682)\n",
      "11\n",
      "n:10, sum of series: 2.29316625410646279803)\n",
      "11\n",
      "n:11, sum of series: 2.29316628296250435426)\n",
      "11\n",
      "n:12, sum of series: 2.29316628681745937612)\n",
      "11\n",
      "n:13, sum of series: 2.29316628733245364558)\n",
      "10\n",
      "n:14, sum of series: 2.29316628740125283414)\n",
      "11\n",
      "n:15, sum of series: 2.29316628741044414852)\n",
      "11\n",
      "n:16, sum of series: 2.29316628741167161110)\n",
      "11\n",
      "n:17, sum of series: 2.29316628741183592410)\n",
      "11\n",
      "n:18, sum of series: 2.29316628741185724039)\n",
      "11\n",
      "n:19, sum of series: 2.29316628741186034901)\n",
      "11\n",
      "n:20, sum of series: 2.29316628741186079310)\n",
      "11\n"
     ]
    }
   ],
   "source": [
    "import numpy as np\n",
    "n = 1.0\n",
    "count = 1\n",
    "f = [tf.constant(0),tf.constant(1)]\n",
    "while True: \n",
    "    print((\"n:{0}, sum of series: {1})\").format(count, '%.20f'%(n)))\n",
    "    if n >= 2.7183:\n",
    "        break\n",
    "    n = float((1+1/n) ** n)\n",
    "    print(num_after_point(n))\n",
    "    count += 1\n",
    "    if count > 20:\n",
    "        break\n",
    "\n",
    "\n",
    "# with tf.Session() as sess:\n",
    "#     result = sess.run(f)\n",
    "#     print result\n",
    "    \n",
    "# tf.summary.FileWriter (\"problem_3\", sess.graph)"
   ]
  },
  {
   "cell_type": "code",
   "execution_count": null,
   "metadata": {},
   "outputs": [],
   "source": []
  },
  {
   "cell_type": "code",
   "execution_count": null,
   "metadata": {},
   "outputs": [],
   "source": []
  },
  {
   "cell_type": "code",
   "execution_count": 4,
   "metadata": {},
   "outputs": [
    {
     "name": "stdout",
     "output_type": "stream",
     "text": [
      "[0, 1, 1, 2, 3, 5, 8, 13, 21, 34, 55, 89, 144, 233, 377, 610, 987, 1597, 2584, 4181, 6765, 10946, 17711, 28657, 46368, 75025, 121393, 196418, 317811, 514229]\n"
     ]
    }
   ],
   "source": [
    "#2 first values of the sequence 0 and 1. They constitute the seed values F(0) and F(1)\n",
    "f = [tf.constant(0),tf.constant(1)]\n",
    "\n",
    "#for positions 2 to 29 each number is calculated by adding the 2 previous in the sequence.\n",
    "for i in range(2,30):\n",
    "    fib_i = f[i-1] + f[i-2]\n",
    "    f.append(fib_i)\n",
    "    \n",
    "with tf.Session() as sess:\n",
    "    result = sess.run(f)\n",
    "    print result\n"
   ]
  },
  {
   "cell_type": "code",
   "execution_count": null,
   "metadata": {
    "collapsed": true
   },
   "outputs": [],
   "source": [
    "n = tf.placeholder(tf.float32)\n"
   ]
  }
 ],
 "metadata": {
  "kernelspec": {
   "display_name": "Python 2",
   "language": "python",
   "name": "python2"
  },
  "language_info": {
   "codemirror_mode": {
    "name": "ipython",
    "version": 2
   },
   "file_extension": ".py",
   "mimetype": "text/x-python",
   "name": "python",
   "nbconvert_exporter": "python",
   "pygments_lexer": "ipython2",
   "version": "2.7.14"
  }
 },
 "nbformat": 4,
 "nbformat_minor": 2
}
