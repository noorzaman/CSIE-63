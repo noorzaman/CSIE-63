{
 "cells": [
  {
   "cell_type": "code",
   "execution_count": 4,
   "metadata": {
    "collapsed": true
   },
   "outputs": [],
   "source": [
    "import nltk"
   ]
  },
  {
   "cell_type": "markdown",
   "metadata": {},
   "source": [
    "# Problem 3 \n",
    "\n",
    "1. Create your own grammar for the following sentence: \n",
    "    - \"Describe every step of your work and present all intermediate and final results in a Word document\"."
   ]
  },
  {
   "cell_type": "code",
   "execution_count": 9,
   "metadata": {
    "collapsed": true
   },
   "outputs": [],
   "source": [
    "sentence = \"\"\"Describe every step of your work and present all intermediate and final results in a Word document\"\"\""
   ]
  },
  {
   "cell_type": "code",
   "execution_count": 14,
   "metadata": {},
   "outputs": [],
   "source": [
    "tokens = nltk.word_tokenize(sentence)"
   ]
  },
  {
   "cell_type": "code",
   "execution_count": 15,
   "metadata": {},
   "outputs": [
    {
     "data": {
      "text/plain": [
       "['Describe',\n",
       " 'every',\n",
       " 'step',\n",
       " 'of',\n",
       " 'your',\n",
       " 'work',\n",
       " 'and',\n",
       " 'present',\n",
       " 'all',\n",
       " 'intermediate',\n",
       " 'and',\n",
       " 'final',\n",
       " 'results',\n",
       " 'in',\n",
       " 'a',\n",
       " 'Word',\n",
       " 'document']"
      ]
     },
     "execution_count": 15,
     "metadata": {},
     "output_type": "execute_result"
    }
   ],
   "source": [
    "tokens"
   ]
  },
  {
   "cell_type": "code",
   "execution_count": 16,
   "metadata": {
    "collapsed": true
   },
   "outputs": [],
   "source": [
    "tagged = nltk.pos_tag(tokens)"
   ]
  },
  {
   "cell_type": "code",
   "execution_count": 17,
   "metadata": {},
   "outputs": [
    {
     "data": {
      "text/plain": [
       "[('Describe', 'NNP'),\n",
       " ('every', 'DT'),\n",
       " ('step', 'NN'),\n",
       " ('of', 'IN'),\n",
       " ('your', 'PRP$'),\n",
       " ('work', 'NN'),\n",
       " ('and', 'CC'),\n",
       " ('present', 'JJ'),\n",
       " ('all', 'DT'),\n",
       " ('intermediate', 'JJ'),\n",
       " ('and', 'CC'),\n",
       " ('final', 'JJ'),\n",
       " ('results', 'NNS'),\n",
       " ('in', 'IN'),\n",
       " ('a', 'DT'),\n",
       " ('Word', 'NNP'),\n",
       " ('document', 'NN')]"
      ]
     },
     "execution_count": 17,
     "metadata": {},
     "output_type": "execute_result"
    }
   ],
   "source": [
    "tagged"
   ]
  },
  {
   "cell_type": "code",
   "execution_count": null,
   "metadata": {
    "collapsed": true
   },
   "outputs": [],
   "source": []
  }
 ],
 "metadata": {
  "kernelspec": {
   "display_name": "Python 2",
   "language": "python",
   "name": "python2"
  },
  "language_info": {
   "codemirror_mode": {
    "name": "ipython",
    "version": 2
   },
   "file_extension": ".py",
   "mimetype": "text/x-python",
   "name": "python",
   "nbconvert_exporter": "python",
   "pygments_lexer": "ipython2",
   "version": "2.7.11"
  }
 },
 "nbformat": 4,
 "nbformat_minor": 2
}
