{
 "cells": [
  {
   "cell_type": "code",
   "execution_count": 1,
   "metadata": {
    "collapsed": true
   },
   "outputs": [],
   "source": [
    "# import modules & set up logging\n",
    "import gensim, logging"
   ]
  },
  {
   "cell_type": "markdown",
   "metadata": {},
   "source": [
    "# Working on a Macbook Pro so needed to use the link below to get this code to work properly \n",
    "- https://github.com/William-Yeh/word2vec-mac"
   ]
  },
  {
   "cell_type": "code",
   "execution_count": 6,
   "metadata": {},
   "outputs": [],
   "source": [
    "logging.basicConfig(format='%(asctime)s : %(levelname)s : %(message)s', level=logging.INFO)"
   ]
  },
  {
   "cell_type": "code",
   "execution_count": 7,
   "metadata": {},
   "outputs": [
    {
     "name": "stderr",
     "output_type": "stream",
     "text": [
      "2017-10-28 01:43:49,221 : INFO : loading projection weights from ./word2vec/vectors.bin\n",
      "2017-10-28 01:43:50,188 : INFO : loaded (71290, 200) matrix from ./word2vec/vectors.bin\n"
     ]
    }
   ],
   "source": [
    "#load model, model was created in problem 1\n",
    "model = gensim.models.KeyedVectors.load_word2vec_format('./word2vec/vectors.bin', binary=True)"
   ]
  },
  {
   "cell_type": "code",
   "execution_count": 8,
   "metadata": {},
   "outputs": [
    {
     "name": "stderr",
     "output_type": "stream",
     "text": [
      "2017-10-28 01:43:50,236 : INFO : precomputing L2-norms of word weight vectors\n"
     ]
    },
    {
     "data": {
      "text/plain": [
       "[(u'montoku', 0.6238285303115845)]"
      ]
     },
     "execution_count": 8,
     "metadata": {},
     "output_type": "execute_result"
    }
   ],
   "source": [
    "#what requested in the problem\n",
    "model.most_similar(positive=['emperor', 'woman'], negative=['man'], topn=1)"
   ]
  },
  {
   "cell_type": "markdown",
   "metadata": {},
   "source": [
    "## Analysis of output\n",
    "These results look correct.   Looking up \"montoku\" on wikipedia gave the following results.  [https://en.wikipedia.org/wiki/Emperor_Montoku](https://en.wikipedia.org/wiki/Emperor_Montoku)\n",
    "\n",
    "\"Emperor Montoku was the 55th emperor of Japan, according to the traditional order of succession. Montoku's reign lasted from 850 to 858.\""
   ]
  },
  {
   "cell_type": "code",
   "execution_count": null,
   "metadata": {
    "collapsed": true
   },
   "outputs": [],
   "source": []
  }
 ],
 "metadata": {
  "kernelspec": {
   "display_name": "Python 2",
   "language": "python",
   "name": "python2"
  },
  "language_info": {
   "codemirror_mode": {
    "name": "ipython",
    "version": 2
   },
   "file_extension": ".py",
   "mimetype": "text/x-python",
   "name": "python",
   "nbconvert_exporter": "python",
   "pygments_lexer": "ipython2",
   "version": "2.7.11"
  }
 },
 "nbformat": 4,
 "nbformat_minor": 2
}
