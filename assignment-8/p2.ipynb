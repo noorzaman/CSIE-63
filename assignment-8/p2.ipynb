{
 "cells": [
  {
   "cell_type": "code",
   "execution_count": null,
   "metadata": {
    "collapsed": true
   },
   "outputs": [],
   "source": []
  },
  {
   "cell_type": "markdown",
   "metadata": {},
   "source": [
    "# Problem 2\n",
    "1. Identify 10 most frequently used words longer than 7 characters in the entire corpus of Inaugural Addresses. \n",
    "1a. Do not identify 10 words for every speech but rather 10 words for the entire corpus. \n",
    "2. Which among those words has the largest number of synonyms? \n",
    "2a. List all synonyms for those 10 words. Which one of those 10 words has the largest number of hyponyms? \n",
    "3. List all hyponyms of those 10 most frequently used “long” words. \n",
    "3a. The purpose of this problem is to familiarize you with WordNet and concepts of synonyms and hyponyms."
   ]
  },
  {
   "cell_type": "code",
   "execution_count": null,
   "metadata": {
    "collapsed": true
   },
   "outputs": [],
   "source": []
  }
 ],
 "metadata": {
  "kernelspec": {
   "display_name": "Python 2",
   "language": "python",
   "name": "python2"
  },
  "language_info": {
   "codemirror_mode": {
    "name": "ipython",
    "version": 2
   },
   "file_extension": ".py",
   "mimetype": "text/x-python",
   "name": "python",
   "nbconvert_exporter": "python",
   "pygments_lexer": "ipython2",
   "version": "2.7.11"
  }
 },
 "nbformat": 4,
 "nbformat_minor": 2
}
