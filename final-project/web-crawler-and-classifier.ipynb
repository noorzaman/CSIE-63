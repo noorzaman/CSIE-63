{
 "cells": [
  {
   "cell_type": "code",
   "execution_count": 64,
   "metadata": {},
   "outputs": [],
   "source": [
    "import requests\n",
    "from bs4 import BeautifulSoup\n",
    "import re\n",
    "from nltk.tokenize import RegexpTokenizer\n",
    "import nltk\n",
    "import matplotlib.pyplot as plt\n",
    "import seaborn as sns\n",
    "from sklearn.feature_extraction.stop_words import ENGLISH_STOP_WORDS\n",
    "from nltk.corpus import wordnet as wn\n",
    "import pandas as pd"
   ]
  },
  {
   "cell_type": "markdown",
   "metadata": {},
   "source": [
    "# Web Crawler & Classifier\n",
    "- Convert this tutorial for our usecase [https://github.com/datacamp/datacamp_facebook_live_nlp/blob/master/NLP_FB_live_coding_soln.ipynb](https://github.com/datacamp/datacamp_facebook_live_nlp/blob/master/NLP_FB_live_coding_soln.ipynb)\n",
    "- Maybe implement RAKE [https://github.com/csurfer/rake-nltk](https://github.com/csurfer/rake-nltk)"
   ]
  },
  {
   "cell_type": "markdown",
   "metadata": {},
   "source": [
    "### URL of site to scrape"
   ]
  },
  {
   "cell_type": "code",
   "execution_count": 18,
   "metadata": {
    "collapsed": true
   },
   "outputs": [],
   "source": [
    "url = \"http://\"+ \"inhabitat.com\" + \"/the-worlds-first-space-nation-officially-in-orbit-with-new-satellite/\""
   ]
  },
  {
   "cell_type": "code",
   "execution_count": 19,
   "metadata": {},
   "outputs": [
    {
     "data": {
      "text/plain": [
       "requests.models.Response"
      ]
     },
     "execution_count": 19,
     "metadata": {},
     "output_type": "execute_result"
    }
   ],
   "source": [
    "r = requests.get(url)\n",
    "type(r)"
   ]
  },
  {
   "cell_type": "markdown",
   "metadata": {},
   "source": [
    "### Cleaning function to remove HTML Junk"
   ]
  },
  {
   "cell_type": "code",
   "execution_count": null,
   "metadata": {
    "collapsed": true
   },
   "outputs": [],
   "source": [
    "def clean_me(html):\n",
    "    soup = BeautifulSoup(html)\n",
    "    for s in soup(['script', 'style']):\n",
    "        s.decompose()\n",
    "    return ' '.join(soup.stripped_strings)"
   ]
  },
  {
   "cell_type": "markdown",
   "metadata": {},
   "source": [
    "### Remove HTML from text"
   ]
  },
  {
   "cell_type": "code",
   "execution_count": 30,
   "metadata": {},
   "outputs": [
    {
     "name": "stdout",
     "output_type": "stream",
     "text": [
      "The world's first space nation is now officially in orbit | Inhabitat - Green Design, Innovation, Architecture, Green Building LOGIN Lost your password? Connect with: Facebook Google Twitter Logging In SIGN UP Create an Inhabitat account Sign up for weekly newsletter I agree to receive emails from the site. I can withdraw my consent at any time by unsubscribing. Do you live in Canada? Register here. Connect with: Facebook Google Twitter Signing Up LOST PASSWORD Checking for Account flipboard Log In Sign Up opener News Environment Architecture Design Innovation More Fashion Kids About Mission Submit a story Advertise with us Contact Press Legal Privacy Policy Cookie Policy Log In Sign Up The world’s first space nation is now officially in orbit 11/16/2017 under NASA , News , Science by Greg Beach 0 Add to Flipboard Magazine. by Greg Beach View Slideshow Space is now officially home to the known universe’s first “space nation”. Asgardia launched its very first satellite, Asgardia-1, into orbit on November 12, 2017. Only about the size of a soccer ball, the satellite traveled aboard a NASA commercial cargo vehicle to make its two-day journey from NASA’s Wallops Flight Facility in Virginia to the International Space Station. The “nanosat” contains .5 terabytes of data from 18,000 of Asgardia’s 114,000 citizens to demonstrate the nation’s ability to store data independently of any earthbound state or corporation; it also contains items of national heritage, including Asgardia’s flag, coat of arms, and developing constitution. Named after Norse mythology’s city of the skies, Asgardia was founded by Russian scientist Dr. Igor Ashubeyli in October 2016. Since the country’s founding, people of many nationalities have signed up to become Asgardians. “I really want to be able to see if human beings are able to have more opportunity to express their opinions,” said Rayven Sin, an Asgardian artist based in Hong Kong , according to CNN . “The society we live in now — everything seems to be either capitalism or communism — there’s a lot of conflict. As a human being, I would hope (to see) if we could have other ways (of living). For a better life, and for more options.” Related: The isolated Pacific graveyard where spaceships go to die Once properly prepped and equipped at the International Space Station , Asgardia-1 will take flight and enter orbit on its own, where it is expected to remain for five to eighteen months before it burns up. However, this is only the beginning of Asgardia’s story. The space nation plans to seek official recognition from the United Nations as an independent nation, a challenging feat to say the least, as well as constructing orbiting habitats on which Asgardians can live. Even Ashubeyli acknowledges the challenges ahead. “We have to be like a normal country. All countries have problems, and soon we will have the same problems,” he said to CNN . “But we will have more than normal countries because we are not on Earth.” Via CNN Images via James Vaughn/Asgardia View Comments LEAVE A COMMENT RECOMMENDED FOR YOU Tesla's new Solar Roof is actually cheaper than a normal roof HOW TO: Grow an Avocado Tree from an Avocado Pit Shocking Caribbean photos reveal a \"sea of plastic and Styrofoam\" 'We were blown away' - researchers eliminate obstacle to fusi ... The isolated Pacific graveyard where spaceships go to die 6 Tiny Homes under $50,000 you can buy right now Fisker patents EV battery with a range of 500 miles that can ... This Living Vehicle can take you completely off grid for a month 11 green building materials that are way better than concrete Leading Stanford climate scientist builds incredible net zero ... This Airbnb alternative lets you stay in modern homes by top ... 7 DIY face masks for healthy, gorgeous spring skin Start Slideshow Displaying ad for 5 seconds Share Pin Tweet + Design Share Pin Tweet + Start Slideshow > The world’s first space nation is now officially in orbit Share Pin Tweet +\n"
     ]
    },
    {
     "name": "stderr",
     "output_type": "stream",
     "text": [
      "/usr/local/lib/python2.7/site-packages/bs4/__init__.py:181: UserWarning: No parser was explicitly specified, so I'm using the best available HTML parser for this system (\"lxml\"). This usually isn't a problem, but if you run this code on another system, or in a different virtual environment, it may use a different parser and behave differently.\n",
      "\n",
      "The code that caused this warning is on line 174 of the file /usr/local/Cellar/python/2.7.14/Frameworks/Python.framework/Versions/2.7/lib/python2.7/runpy.py. To get rid of this warning, change code that looks like this:\n",
      "\n",
      " BeautifulSoup(YOUR_MARKUP})\n",
      "\n",
      "to this:\n",
      "\n",
      " BeautifulSoup(YOUR_MARKUP, \"lxml\")\n",
      "\n",
      "  markup_type=markup_type))\n"
     ]
    }
   ],
   "source": [
    "html = r.text\n",
    "html = clean_me(html) \n",
    "print(html)"
   ]
  },
  {
   "cell_type": "code",
   "execution_count": 31,
   "metadata": {},
   "outputs": [
    {
     "data": {
      "text/plain": [
       "bs4.BeautifulSoup"
      ]
     },
     "execution_count": 31,
     "metadata": {},
     "output_type": "execute_result"
    }
   ],
   "source": [
    "soup = BeautifulSoup(html, \"html5lib\")\n",
    "type(soup)"
   ]
  },
  {
   "cell_type": "code",
   "execution_count": 41,
   "metadata": {},
   "outputs": [
    {
     "name": "stdout",
     "output_type": "stream",
     "text": [
      "The world's first space nation is now officially in orbit | Inhabitat - Green Design, Innovation, Architecture, Green Building LOGIN Lost your password? Connect with: Facebook Google Twitter Logging In SIGN UP Create an Inhabitat account Sign up for weekly newsletter I agree to receive emails from the site. I can withdraw my consent at any time by unsubscribing. Do you live in Canada? Register here. Connect with: Facebook Google Twitter Signing Up LOST PASSWORD Checking for Account flipboard Log In Sign Up opener News Environment Architecture Design Innovation More Fashion Kids About Mission Submit a story Advertise with us Contact Press Legal Privacy Policy Cookie Policy Log In Sign Up The world’s first space nation is now officially in orbit 11/16/2017 under NASA , News , Science by Greg Beach 0 Add to Flipboard Magazine. by Greg Beach View Slideshow Space is now officially home to the known universe’s first “space nation”. Asgardia launched its very first satellite, Asgardia-1, into orbit on November 12, 2017. Only about the size of a soccer ball, the satellite traveled aboard a NASA commercial cargo vehicle to make its two-day journey from NASA’s Wallops Flight Facility in Virginia to the International Space Station. The “nanosat” contains .5 terabytes of data from 18,000 of Asgardia’s 114,000 citizens to demonstrate the nation’s ability to store data independently of any earthbound state or corporation; it also contains items of national heritage, including Asgardia’s flag, coat of arms, and developing constitution. Named after Norse mythology’s city of the skies, Asgardia was founded by Russian scientist Dr. Igor Ashubeyli in October 2016. Since the country’s founding, people of many nationalities have signed up to become Asgardians. “I really want to be able to see if human beings are able to have more opportunity to express their opinions,” said Rayven Sin, an Asgardian artist based in Hong Kong , according to CNN . “The society we live in now — everything seems to be either capitalism or communism — there’s a lot of conflict. As a human being, I would hope (to see) if we could have other ways (of living). For a better life, and for more options.” Related: The isolated Pacific graveyard where spaceships go to die Once properly prepped and equipped at the International Space Station , Asgardia-1 will take flight and enter orbit on its own, where it is expected to remain for five to eighteen months before it burns up. However, this is only the beginning of Asgardia’s story. The space nation plans to seek official recognition from the United Nations as an independent nation, a challenging feat to say the least, as well as constructing orbiting habitats on which Asgardians can live. Even Ashubeyli acknowledges the challenges ahead. “We have to be like a normal country. All countries have problems, and soon we will have the same problems,” he said to CNN . “But we will have more than normal countries because we are not on Earth.” Via CNN Images via James Vaughn/Asgardia View Comments LEAVE A COMMENT RECOMMENDED FOR YOU Tesla's new Solar Roof is actually cheaper than a normal roof HOW TO: Grow an Avocado Tree from an Avocado Pit Shocking Caribbean photos reveal a \"sea of plastic and Styrofoam\" 'We were blown away' - researchers eliminate obstacle to fusi ... The isolated Pacific graveyard where spaceships go to die 6 Tiny Homes under $50,000 you can buy right now Fisker patents EV battery with a range of 500 miles that can ... This Living Vehicle can take you completely off grid for a month 11 green building materials that are way better than concrete Leading Stanford climate scientist builds incredible net zero ... This Airbnb alternative lets you stay in modern homes by top ... 7 DIY face masks for healthy, gorgeous spring skin Start Slideshow Displaying ad for 5 seconds Share Pin Tweet + Design Share Pin Tweet + Start Slideshow > The world’s first space nation is now officially in orbit Share Pin Tweet +\n"
     ]
    }
   ],
   "source": [
    "text = soup.get_text()\n",
    "print(text)"
   ]
  },
  {
   "cell_type": "markdown",
   "metadata": {},
   "source": [
    "# Tokenize words in text\n",
    "Step 1: Tokenize\n",
    "You want to tokenize your text, that is, split it into a list a words."
   ]
  },
  {
   "cell_type": "code",
   "execution_count": 54,
   "metadata": {},
   "outputs": [
    {
     "name": "stdout",
     "output_type": "stream",
     "text": [
      "670\n",
      "[u'The', u'world', u's', u'first', u'space', u'nation', u'is', u'now', u'officially', u'in', u'orbit', u'Inhabitat', u'Green', u'Design', u'Innovation', u'Architecture', u'Green', u'Building', u'LOGIN', u'Lost', u'your', u'password', u'Connect', u'with', u'Facebook']\n"
     ]
    }
   ],
   "source": [
    "tokens = re.findall('\\w+', text)\n",
    "print len(tokens)\n",
    "print(tokens[:25])"
   ]
  },
  {
   "cell_type": "markdown",
   "metadata": {},
   "source": [
    "# Create tokenizer\n",
    "# Create tokens"
   ]
  },
  {
   "cell_type": "code",
   "execution_count": 43,
   "metadata": {},
   "outputs": [
    {
     "data": {
      "text/plain": [
       "[u'The', u'world', u's', u'first', u'space', u'nation', u'is', u'now']"
      ]
     },
     "execution_count": 43,
     "metadata": {},
     "output_type": "execute_result"
    }
   ],
   "source": [
    "# Create tokenizer\n",
    "tokenizer = RegexpTokenizer('\\w+')\n",
    "# Create tokens\n",
    "tokens = tokenizer.tokenize(text)\n",
    "tokens[:8]"
   ]
  },
  {
   "cell_type": "markdown",
   "metadata": {},
   "source": [
    "# Initialize new list"
   ]
  },
  {
   "cell_type": "code",
   "execution_count": 45,
   "metadata": {},
   "outputs": [
    {
     "name": "stdout",
     "output_type": "stream",
     "text": [
      "[u'the', u'world', u's', u'first', u'space', u'nation', u'is', u'now']\n",
      "670\n"
     ]
    }
   ],
   "source": [
    "# Initialize new list\n",
    "words = []\n",
    "\n",
    "\n",
    "# Loop through list tokens and make lower case\n",
    "for word in tokens:\n",
    "    words.append(word.lower())\n",
    "\n",
    "\n",
    "# Print several items from list as sanity check\n",
    "print(words[:8])\n",
    "print(len(words))"
   ]
  },
  {
   "cell_type": "markdown",
   "metadata": {},
   "source": [
    "# Get English stopwords"
   ]
  },
  {
   "cell_type": "code",
   "execution_count": 48,
   "metadata": {},
   "outputs": [
    {
     "name": "stdout",
     "output_type": "stream",
     "text": [
      "153\n"
     ]
    }
   ],
   "source": [
    "# Get English stopwords and print some of them\n",
    "sw = nltk.corpus.stopwords.words('english')\n",
    "sw[:5]\n",
    "print(len(sw))"
   ]
  },
  {
   "cell_type": "markdown",
   "metadata": {},
   "source": [
    "# Create a new list of words after removing stop words"
   ]
  },
  {
   "cell_type": "code",
   "execution_count": 76,
   "metadata": {},
   "outputs": [
    {
     "name": "stdout",
     "output_type": "stream",
     "text": [
      "['world', 'first', 'space', 'nation', 'officially', 'orbit', 'inhabitat', 'green', 'design', 'innovation', 'architecture', 'green', 'building', 'login', 'lost', 'password', 'connect', 'facebook', 'google', 'twitter', 'logging', 'sign', 'create', 'inhabitat', 'account', 'sign', 'weekly', 'newsletter', 'agree', 'receive', 'emails', 'site', 'withdraw', 'consent', 'time', 'unsubscribing', 'live', 'canada', 'register', 'connect', 'facebook', 'google', 'twitter', 'signing', 'lost', 'password', 'checking', 'account', 'flipboard', 'log', 'sign', 'opener', 'news', 'environment', 'architecture', 'design', 'innovation', 'fashion', 'kids', 'mission']\n",
      "392\n"
     ]
    }
   ],
   "source": [
    "# Initialize new list\n",
    "words_ns = []\n",
    "\n",
    "# Add to words_ns all words that are in words but not in sw\n",
    "for word in words:\n",
    "    if word not in sw and word.isalpha():\n",
    "        words_ns.append(word.encode('utf-8'))\n",
    "\n",
    "# Print several list items as sanity check\n",
    "print(words_ns[:60])\n",
    "print(len(words_ns))"
   ]
  },
  {
   "cell_type": "code",
   "execution_count": 77,
   "metadata": {},
   "outputs": [
    {
     "data": {
      "text/plain": [
       "[('world', 'NN'),\n",
       " ('first', 'RB'),\n",
       " ('space', 'NN'),\n",
       " ('nation', 'NN'),\n",
       " ('officially', 'RB'),\n",
       " ('orbit', 'RB'),\n",
       " ('inhabitat', 'JJ'),\n",
       " ('green', 'JJ'),\n",
       " ('design', 'NN'),\n",
       " ('innovation', 'NN'),\n",
       " ('architecture', 'NN'),\n",
       " ('green', 'JJ'),\n",
       " ('building', 'VBG'),\n",
       " ('login', 'NN'),\n",
       " ('lost', 'VBD'),\n",
       " ('password', 'NN'),\n",
       " ('connect', 'NN'),\n",
       " ('facebook', 'NN'),\n",
       " ('google', 'NN'),\n",
       " ('twitter', 'NN'),\n",
       " ('logging', 'VBG'),\n",
       " ('sign', 'NN'),\n",
       " ('create', 'NN'),\n",
       " ('inhabitat', 'JJ'),\n",
       " ('account', 'NN'),\n",
       " ('sign', 'JJ'),\n",
       " ('weekly', 'JJ'),\n",
       " ('newsletter', 'NN'),\n",
       " ('agree', 'VBP'),\n",
       " ('receive', 'NN'),\n",
       " ('emails', 'NNS'),\n",
       " ('site', 'NN'),\n",
       " ('withdraw', 'JJ'),\n",
       " ('consent', 'NN'),\n",
       " ('time', 'NN'),\n",
       " ('unsubscribing', 'VBG'),\n",
       " ('live', 'JJ'),\n",
       " ('canada', 'NN'),\n",
       " ('register', 'NN'),\n",
       " ('connect', 'VBP'),\n",
       " ('facebook', 'NN'),\n",
       " ('google', 'NN'),\n",
       " ('twitter', 'NN'),\n",
       " ('signing', 'VBG'),\n",
       " ('lost', 'VBN'),\n",
       " ('password', 'NN'),\n",
       " ('checking', 'VBG'),\n",
       " ('account', 'NN'),\n",
       " ('flipboard', 'RB'),\n",
       " ('log', 'VBZ'),\n",
       " ('sign', 'NN'),\n",
       " ('opener', 'RB'),\n",
       " ('news', 'NN'),\n",
       " ('environment', 'NN'),\n",
       " ('architecture', 'NN'),\n",
       " ('design', 'NN'),\n",
       " ('innovation', 'NN'),\n",
       " ('fashion', 'NN'),\n",
       " ('kids', 'NNS'),\n",
       " ('mission', 'NN'),\n",
       " ('submit', 'VBP'),\n",
       " ('story', 'NN'),\n",
       " ('advertise', 'NN'),\n",
       " ('us', 'PRP'),\n",
       " ('contact', 'JJ'),\n",
       " ('press', 'JJ'),\n",
       " ('legal', 'JJ'),\n",
       " ('privacy', 'NN'),\n",
       " ('policy', 'NN'),\n",
       " ('cookie', 'NN'),\n",
       " ('policy', 'NN'),\n",
       " ('log', 'NN'),\n",
       " ('sign', 'NN'),\n",
       " ('world', 'NN'),\n",
       " ('first', 'JJ'),\n",
       " ('space', 'NN'),\n",
       " ('nation', 'NN'),\n",
       " ('officially', 'RB'),\n",
       " ('orbit', 'RB'),\n",
       " ('nasa', 'JJ'),\n",
       " ('news', 'NN'),\n",
       " ('science', 'NN'),\n",
       " ('greg', 'NN'),\n",
       " ('beach', 'NN'),\n",
       " ('add', 'VB'),\n",
       " ('flipboard', 'JJ'),\n",
       " ('magazine', 'NN'),\n",
       " ('greg', 'NN'),\n",
       " ('beach', 'NN'),\n",
       " ('view', 'NN'),\n",
       " ('slideshow', 'VBP'),\n",
       " ('space', 'NN'),\n",
       " ('officially', 'RB'),\n",
       " ('home', 'NN'),\n",
       " ('known', 'VBN'),\n",
       " ('universe', 'JJ'),\n",
       " ('first', 'JJ'),\n",
       " ('space', 'NN'),\n",
       " ('nation', 'NN'),\n",
       " ('asgardia', 'NN'),\n",
       " ('launched', 'VBN'),\n",
       " ('first', 'RB'),\n",
       " ('satellite', 'JJ'),\n",
       " ('asgardia', 'NN'),\n",
       " ('orbit', 'NN'),\n",
       " ('november', 'JJ'),\n",
       " ('size', 'NN'),\n",
       " ('soccer', 'NN'),\n",
       " ('ball', 'NN'),\n",
       " ('satellite', 'NN'),\n",
       " ('traveled', 'VBD'),\n",
       " ('aboard', 'RB'),\n",
       " ('nasa', 'JJ'),\n",
       " ('commercial', 'JJ'),\n",
       " ('cargo', 'NN'),\n",
       " ('vehicle', 'NN'),\n",
       " ('make', 'VBP'),\n",
       " ('two', 'CD'),\n",
       " ('day', 'NN'),\n",
       " ('journey', 'NN'),\n",
       " ('nasa', 'JJ'),\n",
       " ('wallops', 'NNS'),\n",
       " ('flight', 'NN'),\n",
       " ('facility', 'NN'),\n",
       " ('virginia', 'NNP'),\n",
       " ('international', 'JJ'),\n",
       " ('space', 'NN'),\n",
       " ('station', 'NN'),\n",
       " ('nanosat', 'FW'),\n",
       " ('contains', 'VBZ'),\n",
       " ('terabytes', 'NNS'),\n",
       " ('data', 'NNS'),\n",
       " ('asgardia', 'RB'),\n",
       " ('citizens', 'NNS'),\n",
       " ('demonstrate', 'VBP'),\n",
       " ('nation', 'NN'),\n",
       " ('ability', 'NN'),\n",
       " ('store', 'NN'),\n",
       " ('data', 'NNS'),\n",
       " ('independently', 'RB'),\n",
       " ('earthbound', 'IN'),\n",
       " ('state', 'NN'),\n",
       " ('corporation', 'NN'),\n",
       " ('also', 'RB'),\n",
       " ('contains', 'VBZ'),\n",
       " ('items', 'NNS'),\n",
       " ('national', 'JJ'),\n",
       " ('heritage', 'NN'),\n",
       " ('including', 'VBG'),\n",
       " ('asgardia', 'JJ'),\n",
       " ('flag', 'NN'),\n",
       " ('coat', 'NN'),\n",
       " ('arms', 'NNS'),\n",
       " ('developing', 'VBG'),\n",
       " ('constitution', 'NN'),\n",
       " ('named', 'VBN'),\n",
       " ('norse', 'JJ'),\n",
       " ('mythology', 'NN'),\n",
       " ('city', 'NN'),\n",
       " ('skies', 'NNS'),\n",
       " ('asgardia', 'VBP'),\n",
       " ('founded', 'VBN'),\n",
       " ('russian', 'JJ'),\n",
       " ('scientist', 'NN'),\n",
       " ('dr', 'NN'),\n",
       " ('igor', 'NN'),\n",
       " ('ashubeyli', 'IN'),\n",
       " ('october', 'NNP'),\n",
       " ('since', 'IN'),\n",
       " ('country', 'NN'),\n",
       " ('founding', 'VBG'),\n",
       " ('people', 'NNS'),\n",
       " ('many', 'JJ'),\n",
       " ('nationalities', 'NNS'),\n",
       " ('signed', 'VBD'),\n",
       " ('become', 'JJ'),\n",
       " ('asgardians', 'NNS'),\n",
       " ('really', 'RB'),\n",
       " ('want', 'VBP'),\n",
       " ('able', 'JJ'),\n",
       " ('see', 'VBP'),\n",
       " ('human', 'JJ'),\n",
       " ('beings', 'NNS'),\n",
       " ('able', 'JJ'),\n",
       " ('opportunity', 'NN'),\n",
       " ('express', 'NN'),\n",
       " ('opinions', 'NNS'),\n",
       " ('said', 'VBD'),\n",
       " ('rayven', 'JJ'),\n",
       " ('sin', 'NN'),\n",
       " ('asgardian', 'JJ'),\n",
       " ('artist', 'NN'),\n",
       " ('based', 'VBN'),\n",
       " ('hong', 'RB'),\n",
       " ('kong', 'JJ'),\n",
       " ('according', 'VBG'),\n",
       " ('cnn', 'JJ'),\n",
       " ('society', 'NN'),\n",
       " ('live', 'VBP'),\n",
       " ('everything', 'NN'),\n",
       " ('seems', 'VBZ'),\n",
       " ('either', 'CC'),\n",
       " ('capitalism', 'NN'),\n",
       " ('communism', 'NN'),\n",
       " ('lot', 'NN'),\n",
       " ('conflict', 'NN'),\n",
       " ('human', 'NN'),\n",
       " ('would', 'MD'),\n",
       " ('hope', 'VB'),\n",
       " ('see', 'VB'),\n",
       " ('could', 'MD'),\n",
       " ('ways', 'NNS'),\n",
       " ('living', 'VBG'),\n",
       " ('better', 'JJR'),\n",
       " ('life', 'NN'),\n",
       " ('options', 'NNS'),\n",
       " ('related', 'VBN'),\n",
       " ('isolated', 'JJ'),\n",
       " ('pacific', 'JJ'),\n",
       " ('graveyard', 'NN'),\n",
       " ('spaceships', 'NNS'),\n",
       " ('go', 'VBP'),\n",
       " ('die', 'JJ'),\n",
       " ('properly', 'RB'),\n",
       " ('prepped', 'VBD'),\n",
       " ('equipped', 'JJ'),\n",
       " ('international', 'JJ'),\n",
       " ('space', 'NN'),\n",
       " ('station', 'NN'),\n",
       " ('asgardia', 'NNS'),\n",
       " ('take', 'VBP'),\n",
       " ('flight', 'NN'),\n",
       " ('enter', 'NN'),\n",
       " ('orbit', 'NN'),\n",
       " ('expected', 'VBD'),\n",
       " ('remain', 'VBP'),\n",
       " ('five', 'CD'),\n",
       " ('eighteen', 'JJ'),\n",
       " ('months', 'NNS'),\n",
       " ('burns', 'NNS'),\n",
       " ('however', 'RB'),\n",
       " ('beginning', 'VBG'),\n",
       " ('asgardia', 'RP'),\n",
       " ('story', 'NN'),\n",
       " ('space', 'NN'),\n",
       " ('nation', 'NN'),\n",
       " ('plans', 'NNS'),\n",
       " ('seek', 'VBP'),\n",
       " ('official', 'JJ'),\n",
       " ('recognition', 'NN'),\n",
       " ('united', 'VBD'),\n",
       " ('nations', 'NNS'),\n",
       " ('independent', 'JJ'),\n",
       " ('nation', 'NN'),\n",
       " ('challenging', 'VBG'),\n",
       " ('feat', 'NNS'),\n",
       " ('say', 'VBP'),\n",
       " ('least', 'JJS'),\n",
       " ('well', 'RB'),\n",
       " ('constructing', 'VBG'),\n",
       " ('orbiting', 'VBG'),\n",
       " ('habitats', 'NNS'),\n",
       " ('asgardians', 'VBP'),\n",
       " ('live', 'JJ'),\n",
       " ('even', 'RB'),\n",
       " ('ashubeyli', 'VBP'),\n",
       " ('acknowledges', 'NNS'),\n",
       " ('challenges', 'NNS'),\n",
       " ('ahead', 'RB'),\n",
       " ('like', 'IN'),\n",
       " ('normal', 'JJ'),\n",
       " ('country', 'NN'),\n",
       " ('countries', 'NNS'),\n",
       " ('problems', 'NNS'),\n",
       " ('soon', 'RB'),\n",
       " ('problems', 'NNS'),\n",
       " ('said', 'VBD'),\n",
       " ('cnn', 'JJ'),\n",
       " ('normal', 'JJ'),\n",
       " ('countries', 'NNS'),\n",
       " ('earth', 'VBP'),\n",
       " ('via', 'IN'),\n",
       " ('cnn', 'NN'),\n",
       " ('images', 'NNS'),\n",
       " ('via', 'IN'),\n",
       " ('james', 'NNS'),\n",
       " ('vaughn', 'JJ'),\n",
       " ('asgardia', 'JJ'),\n",
       " ('view', 'NN'),\n",
       " ('comments', 'NNS'),\n",
       " ('leave', 'VBP'),\n",
       " ('comment', 'NN'),\n",
       " ('recommended', 'VBD'),\n",
       " ('tesla', 'JJ'),\n",
       " ('new', 'JJ'),\n",
       " ('solar', 'JJ'),\n",
       " ('roof', 'NN'),\n",
       " ('actually', 'RB'),\n",
       " ('cheaper', 'JJR'),\n",
       " ('normal', 'JJ'),\n",
       " ('roof', 'NN'),\n",
       " ('grow', 'NN'),\n",
       " ('avocado', 'IN'),\n",
       " ('tree', 'JJ'),\n",
       " ('avocado', 'NN'),\n",
       " ('pit', 'NN'),\n",
       " ('shocking', 'VBG'),\n",
       " ('caribbean', 'JJ'),\n",
       " ('photos', 'NNS'),\n",
       " ('reveal', 'VBP'),\n",
       " ('sea', 'NN'),\n",
       " ('plastic', 'NN'),\n",
       " ('styrofoam', 'NN'),\n",
       " ('blown', 'VBN'),\n",
       " ('away', 'RB'),\n",
       " ('researchers', 'NNS'),\n",
       " ('eliminate', 'VBP'),\n",
       " ('obstacle', 'NN'),\n",
       " ('fusi', 'NN'),\n",
       " ('isolated', 'VBD'),\n",
       " ('pacific', 'JJ'),\n",
       " ('graveyard', 'NN'),\n",
       " ('spaceships', 'NNS'),\n",
       " ('go', 'VBP'),\n",
       " ('die', 'JJ'),\n",
       " ('tiny', 'JJ'),\n",
       " ('homes', 'NNS'),\n",
       " ('buy', 'VBP'),\n",
       " ('right', 'JJ'),\n",
       " ('fisker', 'NN'),\n",
       " ('patents', 'NNS'),\n",
       " ('ev', 'VBP'),\n",
       " ('battery', 'NN'),\n",
       " ('range', 'NN'),\n",
       " ('miles', 'NNS'),\n",
       " ('living', 'VBG'),\n",
       " ('vehicle', 'NN'),\n",
       " ('take', 'VB'),\n",
       " ('completely', 'RB'),\n",
       " ('grid', 'JJ'),\n",
       " ('month', 'NN'),\n",
       " ('green', 'JJ'),\n",
       " ('building', 'NN'),\n",
       " ('materials', 'NNS'),\n",
       " ('way', 'NN'),\n",
       " ('better', 'RBR'),\n",
       " ('concrete', 'NN'),\n",
       " ('leading', 'VBG'),\n",
       " ('stanford', 'JJ'),\n",
       " ('climate', 'NN'),\n",
       " ('scientist', 'NN'),\n",
       " ('builds', 'VBZ'),\n",
       " ('incredible', 'JJ'),\n",
       " ('net', 'JJ'),\n",
       " ('zero', 'NN'),\n",
       " ('airbnb', 'NN'),\n",
       " ('alternative', 'JJ'),\n",
       " ('lets', 'NNS'),\n",
       " ('stay', 'VBP'),\n",
       " ('modern', 'JJ'),\n",
       " ('homes', 'NNS'),\n",
       " ('top', 'JJ'),\n",
       " ('diy', 'NN'),\n",
       " ('face', 'NN'),\n",
       " ('masks', 'NNS'),\n",
       " ('healthy', 'JJ'),\n",
       " ('gorgeous', 'JJ'),\n",
       " ('spring', 'NN'),\n",
       " ('skin', 'JJ'),\n",
       " ('start', 'NN'),\n",
       " ('slideshow', 'NN'),\n",
       " ('displaying', 'VBG'),\n",
       " ('ad', 'NN'),\n",
       " ('seconds', 'NNS'),\n",
       " ('share', 'NN'),\n",
       " ('pin', 'JJ'),\n",
       " ('tweet', 'NN'),\n",
       " ('design', 'NN'),\n",
       " ('share', 'NN'),\n",
       " ('pin', 'JJ'),\n",
       " ('tweet', 'JJ'),\n",
       " ('start', 'NN'),\n",
       " ('slideshow', 'NN'),\n",
       " ('world', 'NN'),\n",
       " ('first', 'JJ'),\n",
       " ('space', 'NN'),\n",
       " ('nation', 'NN'),\n",
       " ('officially', 'RB'),\n",
       " ('orbit', 'JJ'),\n",
       " ('share', 'NN'),\n",
       " ('pin', 'JJ'),\n",
       " ('tweet', 'NN')]"
      ]
     },
     "execution_count": 77,
     "metadata": {},
     "output_type": "execute_result"
    }
   ],
   "source": [
    "tagged_text = nltk.pos_tag(words_ns)\n",
    "tagged_text"
   ]
  },
  {
   "cell_type": "code",
   "execution_count": 78,
   "metadata": {},
   "outputs": [
    {
     "name": "stdout",
     "output_type": "stream",
     "text": [
      "              Word  Count\n",
      "0         asgardia      8\n",
      "1            space      8\n",
      "2           nation      7\n",
      "3            first      5\n",
      "4            orbit      5\n",
      "5             sign      4\n",
      "6       officially      4\n",
      "7              cnn      3\n",
      "8             live      3\n",
      "9            world      3\n",
      "10             pin      3\n",
      "11          normal      3\n",
      "12           tweet      3\n",
      "13          design      3\n",
      "14           green      3\n",
      "15       slideshow      3\n",
      "16           share      3\n",
      "17            nasa      3\n",
      "18            said      2\n",
      "19        facebook      2\n",
      "20          living      2\n",
      "21            news      2\n",
      "22         twitter      2\n",
      "23        password      2\n",
      "24           beach      2\n",
      "25         account      2\n",
      "26         connect      2\n",
      "27            lost      2\n",
      "28            able      2\n",
      "29        isolated      2\n",
      "..             ...    ...\n",
      "256       november      1\n",
      "257  nationalities      1\n",
      "258         canada      1\n",
      "259          cargo      1\n",
      "260      caribbean      1\n",
      "261   constitution      1\n",
      "262           ways      1\n",
      "263        nanosat      1\n",
      "264           away      1\n",
      "265          since      1\n",
      "266         remain      1\n",
      "267          legal      1\n",
      "268      materials      1\n",
      "269         airbnb      1\n",
      "270     everything      1\n",
      "271          state      1\n",
      "272         opener      1\n",
      "273      eliminate      1\n",
      "274            net      1\n",
      "275         either      1\n",
      "276        ability      1\n",
      "277         months      1\n",
      "278        seconds      1\n",
      "279           even      1\n",
      "280     commercial      1\n",
      "281        however      1\n",
      "282     completely      1\n",
      "283         cookie      1\n",
      "284          masks      1\n",
      "285            diy      1\n",
      "\n",
      "[286 rows x 2 columns]\n"
     ]
    },
    {
     "name": "stderr",
     "output_type": "stream",
     "text": [
      "/usr/local/lib/python2.7/site-packages/ipykernel_launcher.py:8: FutureWarning: sort(columns=....) is deprecated, use sort_values(by=.....)\n",
      "  \n"
     ]
    }
   ],
   "source": [
    "new_words_ns = {}\n",
    "for wn in words_ns:\n",
    "    if wn not in new_words_ns.keys():\n",
    "        new_words_ns[str(wn)] = 1\n",
    "    else:\n",
    "        new_words_ns[str(wn)] = int(new_words_ns[str(wn)]) + 1\n",
    "\n",
    "df = pd.DataFrame(new_words_ns.items(), columns=['Word', 'Count'])\\\n",
    "       .sort(['Count'], ascending=[False])\\\n",
    "       .reset_index(drop=True)\n",
    "print df"
   ]
  },
  {
   "cell_type": "markdown",
   "metadata": {},
   "source": [
    "# Create freq dist and plot"
   ]
  },
  {
   "cell_type": "code",
   "execution_count": 79,
   "metadata": {},
   "outputs": [
    {
     "data": {
      "image/png": "[encoded data removed]",
      "text/plain": [
       "<matplotlib.figure.Figure at 0x11550b350>"
      ]
     },
     "metadata": {},
     "output_type": "display_data"
    }
   ],
   "source": [
    "# Figures inline and set visualization style\n",
    "%matplotlib inline\n",
    "sns.set()\n",
    "\n",
    "# Create freq dist and plot\n",
    "freqdist1 = nltk.FreqDist(words_ns)\n",
    "freqdist1.plot(25)"
   ]
  },
  {
   "cell_type": "code",
   "execution_count": null,
   "metadata": {
    "collapsed": true
   },
   "outputs": [],
   "source": [
    ""
   ]
  }
 ],
 "metadata": {
  "kernelspec": {
   "display_name": "Python 2",
   "language": "python",
   "name": "python2"
  },
  "language_info": {
   "codemirror_mode": {
    "name": "ipython",
    "version": 2.0
   },
   "file_extension": ".py",
   "mimetype": "text/x-python",
   "name": "python",
   "nbconvert_exporter": "python",
   "pygments_lexer": "ipython2",
   "version": "2.7.14"
  }
 },
 "nbformat": 4,
 "nbformat_minor": 0
}