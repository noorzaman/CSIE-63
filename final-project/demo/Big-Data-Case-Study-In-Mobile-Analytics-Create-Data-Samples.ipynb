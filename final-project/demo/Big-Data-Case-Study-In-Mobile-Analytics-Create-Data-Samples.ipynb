{
 "cells": [
  {
   "cell_type": "code",
   "execution_count": 1,
   "metadata": {},
   "outputs": [
    {
     "name": "stderr",
     "output_type": "stream",
     "text": [
      "/usr/local/lib/python2.7/site-packages/matplotlib/font_manager.py:273: UserWarning: Matplotlib is building the font cache using fc-list. This may take a moment.\n",
      "  warnings.warn('Matplotlib is building the font cache using fc-list. This may take a moment.')\n"
     ]
    }
   ],
   "source": [
    "import os\n",
    "import pyspark.mllib\n",
    "import numpy as np\n",
    "import matplotlib.pyplot\n",
    "import seaborn as sns\n",
    "import pyspark\n",
    "import urllib\n",
    "import pandas as pd\n",
    "import datetime\n",
    "\n",
    "from pyspark import SparkConf, SparkContext\n",
    "from pyspark.sql import SQLContext, SparkSession, Row\n",
    "from pyspark.sql.types import *\n",
    "from pyspark.sql.functions import *\n",
    "from pyspark.sql import functions as func\n",
    "from pyspark.mllib.regression import LinearRegressionWithSGD\n",
    "from pyspark.mllib.regression import LabeledPoint\n",
    "from pyspark.mllib.tree import DecisionTree\n",
    "from IPython.display import display, HTML\n",
    "from pyspark.ml import Pipeline\n",
    "from pyspark.ml.feature import OneHotEncoder, StringIndexer, VectorAssembler, VectorIndexer\n",
    "import numpy as np\n",
    "from numpy import array\n",
    "%matplotlib inline\n",
    "# get_ipython().magic(u'pylab inline')"
   ]
  },
  {
   "cell_type": "code",
   "execution_count": 2,
   "metadata": {
    "collapsed": true
   },
   "outputs": [],
   "source": [
    "### Initialize streaming context\n",
    "conf = SparkConf()\\\n",
    "                .setMaster(\"local[2]\")\\\n",
    "                .setAppName(\"MobileAnalyticsFeaturesExtraction\")\\\n",
    "                .set(\"spark.executor.memory\", \"6g\")\\\n",
    "                .set(\"spark.driver.memory\", \"6g\")\n",
    "sc = SparkContext(conf=conf)\n",
    "sc.setLogLevel(\"ERROR\")\n",
    "sqlContext = SQLContext(sc)\n",
    "spark = SparkSession.builder.appName(\"spark play\").getOrCreate()"
   ]
  },
  {
   "cell_type": "code",
   "execution_count": 4,
   "metadata": {
    "collapsed": true
   },
   "outputs": [],
   "source": [
    "phone_brand_model_csv = \"data/phone_brand_device_model_key.csv\"\n",
    "gender_age_train_csv = \"data/gender_age_train.csv\"\n",
    "gender_age_test_csv = \"data/gender_age_test.csv\"\n",
    "events_csv = \"data/events.csv\"\n",
    "app_events_csv = \"data/app_events.csv\"\n",
    "app_labels_csv =\"data/app_labels.csv\"\n",
    "label_categories_csv = \"data/label_categories.csv\"\n",
    "\n",
    "train_CSV =\"data/train\"\n",
    "test_CSV =\"data/test\""
   ]
  },
  {
   "cell_type": "code",
   "execution_count": 5,
   "metadata": {},
   "outputs": [],
   "source": [
    "app_events = spark.read.csv(app_events_csv, header=True, mode=\"DROPMALFORMED\", inferSchema='true', encoding=\"utf-8\").persist()"
   ]
  },
  {
   "cell_type": "code",
   "execution_count": 7,
   "metadata": {},
   "outputs": [
    {
     "name": "stdout",
     "output_type": "stream",
     "text": [
      "30\n",
      "+--------+--------------------+------------+---------+\n",
      "|event_id|              app_id|is_installed|is_active|\n",
      "+--------+--------------------+------------+---------+\n",
      "|   90431| 5729517255058371973|           1|        0|\n",
      "|  103974|-5305696816021977482|           1|        0|\n",
      "|  349994| 5927333115845830913|           1|        0|\n",
      "|  430665|  596528045739680432|           1|        0|\n",
      "|  432625|-6373901123647546992|           1|        0|\n",
      "|  625541|-6538188762242952077|           1|        1|\n",
      "|  628514| 5241322596077884489|           1|        0|\n",
      "|  681830| 6989638496562408848|           1|        1|\n",
      "| 1184963| 4348659952760821294|           1|        1|\n",
      "| 1466930| 4828548453277771511|           1|        0|\n",
      "| 1587761| 6666573788039351108|           1|        0|\n",
      "| 1638126| 2555734998750410231|           1|        1|\n",
      "| 1643442| -653184324994839917|           1|        0|\n",
      "| 1709074| 8948670408023620661|           1|        1|\n",
      "| 1734006|  821634886970639617|           1|        0|\n",
      "| 1803477|   34559227754570733|           1|        1|\n",
      "| 1813427| 8217278434483022875|           1|        1|\n",
      "| 1896249|-8556932062014966233|           1|        1|\n",
      "| 1936248| 8693964245073640147|           1|        1|\n",
      "| 2065815| 8026407832530984885|           1|        1|\n",
      "+--------+--------------------+------------+---------+\n",
      "only showing top 20 rows\n",
      "\n"
     ]
    }
   ],
   "source": [
    "app_events = app_events.sample(False, 0.001, seed=0).persist()\n",
    "print app_events.count()\n",
    "app_events.show()"
   ]
  },
  {
   "cell_type": "code",
   "execution_count": 9,
   "metadata": {},
   "outputs": [],
   "source": [
    "app_events.repartition(1).write.option(\"header\", True).csv(\"demo/data/app_events\")"
   ]
  },
  {
   "cell_type": "code",
   "execution_count": 10,
   "metadata": {},
   "outputs": [
    {
     "name": "stdout",
     "output_type": "stream",
     "text": [
      "3257\n",
      "+--------+--------------------+-------------------+---------+--------+\n",
      "|event_id|           device_id|          timestamp|longitude|latitude|\n",
      "+--------+--------------------+-------------------+---------+--------+\n",
      "|     978| 2692075908067099101|2016-05-07 00:26:48|      0.0|     0.0|\n",
      "|    1105| 4278305343584179554|2016-05-01 01:50:42|   126.79|   42.38|\n",
      "|    3499|-7655873196685547711|2016-05-07 05:50:01|      0.0|     0.0|\n",
      "|    4302|-8783851385933673163|2016-05-06 06:00:30|   118.81|   32.11|\n",
      "|    4534|  125284895937135417|2016-05-07 06:41:48|   112.96|   30.45|\n",
      "|    5232| -914879838163722787|2016-05-03 07:22:01|   117.14|    34.8|\n",
      "|    7194| 9219164468944552013|2016-05-03 09:18:22|   120.17|   30.27|\n",
      "|    7247| 5132594033699421887|2016-05-03 09:29:12|      0.0|     0.0|\n",
      "|    7624| 4549750073184785510|2016-05-05 09:13:38|   121.61|   31.14|\n",
      "|    9568| 1835470893908525178|2016-05-06 10:41:20|    113.7|   23.06|\n",
      "|    9895| 8680066598920738422|2016-05-07 09:59:40|      0.0|     0.0|\n",
      "|   10669| 5806899496539264495|2016-05-04 11:26:23|   104.09|   30.71|\n",
      "|   12263|-3907798047502045531|2016-05-05 12:02:58|   121.44|   30.99|\n",
      "|   13215| 4957364479695868421|2016-05-03 13:20:21|      1.0|     1.0|\n",
      "|   13653| 3650096660252678277|2016-05-04 13:04:02|   113.25|   23.14|\n",
      "|   17015| 2087974144068173046|2016-05-07 15:21:22|      0.0|     0.0|\n",
      "|   17702| 4780271720899407964|2016-05-04 16:10:37|   113.95|   22.54|\n",
      "|   17956|-9098095498910626527|2016-05-05 16:33:07|      0.0|     0.0|\n",
      "|   19326|-1945035485761929247|2016-05-05 17:20:32|      0.0|     0.0|\n",
      "|   19486|-5105332332397066846|2016-05-06 17:38:53|   108.33|   22.87|\n",
      "+--------+--------------------+-------------------+---------+--------+\n",
      "only showing top 20 rows\n",
      "\n"
     ]
    }
   ],
   "source": [
    "events = spark.read.csv(events_csv, header=True, mode=\"DROPMALFORMED\", inferSchema='true', encoding=\"utf-8\").persist()\n",
    "events = events.sample(False, 0.001, seed=0).persist()\n",
    "print events.count()\n",
    "events.show()"
   ]
  },
  {
   "cell_type": "code",
   "execution_count": 11,
   "metadata": {
    "collapsed": true
   },
   "outputs": [],
   "source": [
    "events.repartition(1).write.option(\"header\", True).csv(\"demo/data/events\")"
   ]
  },
  {
   "cell_type": "code",
   "execution_count": 12,
   "metadata": {},
   "outputs": [
    {
     "name": "stdout",
     "output_type": "stream",
     "text": [
      "3257\n",
      "+--------------------+------+---+------+\n",
      "|           device_id|gender|age| group|\n",
      "+--------------------+------+---+------+\n",
      "|   11491559839923177|     M| 29|M29-31|\n",
      "| 2450350084517153299|     F| 26|F24-26|\n",
      "| 6707328039178412823|     M| 34|M32-38|\n",
      "| 8686488919160645539|     M| 37|M32-38|\n",
      "| 5487968851166251891|     F| 36|F33-42|\n",
      "| 4236671290028993261|     M| 25|M23-26|\n",
      "|-2920089512121882742|     F| 21|  F23-|\n",
      "|-3927905525213459148|     M| 41|  M39+|\n",
      "|   74758162773232977|     M| 20|  M22-|\n",
      "|-1749090368336092788|     F| 24|F24-26|\n",
      "| 3751556080923780612|     M| 21|  M22-|\n",
      "|  395937639874086192|     F| 50|  F43+|\n",
      "|-7936738974721311568|     F| 21|  F23-|\n",
      "| 8652547644062704081|     M| 48|  M39+|\n",
      "|-5365668398628094418|     F| 34|F33-42|\n",
      "|-9058976870986022312|     M| 41|  M39+|\n",
      "| 4975770075842412927|     M| 51|  M39+|\n",
      "|-4198585308778054407|     F| 28|F27-28|\n",
      "|-6843338455486182856|     M| 20|  M22-|\n",
      "| 6633527966857717003|     F| 47|  F43+|\n",
      "+--------------------+------+---+------+\n",
      "only showing top 20 rows\n",
      "\n"
     ]
    }
   ],
   "source": [
    "gender_age_train = spark.read.csv(gender_age_train_csv, header=True, mode=\"DROPMALFORMED\", inferSchema='true', encoding=\"utf-8\").persist()\n",
    "gender_age_train = gender_age_train.sample(False, 0.001, seed=0).persist()\n",
    "print events.count()\n",
    "gender_age_train.show()"
   ]
  },
  {
   "cell_type": "code",
   "execution_count": 13,
   "metadata": {
    "collapsed": true
   },
   "outputs": [],
   "source": [
    "gender_age_train.repartition(1).write.option(\"header\", True).csv(\"demo/data/gender_age_train\")"
   ]
  },
  {
   "cell_type": "code",
   "execution_count": null,
   "metadata": {
    "collapsed": true
   },
   "outputs": [],
   "source": []
  }
 ],
 "metadata": {
  "kernelspec": {
   "display_name": "Python 2",
   "language": "python",
   "name": "python2"
  },
  "language_info": {
   "codemirror_mode": {
    "name": "ipython",
    "version": 2
   },
   "file_extension": ".py",
   "mimetype": "text/x-python",
   "name": "python",
   "nbconvert_exporter": "python",
   "pygments_lexer": "ipython2",
   "version": "2.7.14"
  }
 },
 "nbformat": 4,
 "nbformat_minor": 2
}
