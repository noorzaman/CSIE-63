{
 "cells": [
  {
   "cell_type": "code",
   "execution_count": 1,
   "metadata": {},
   "outputs": [
    {
     "name": "stderr",
     "output_type": "stream",
     "text": [
      "/usr/local/lib/python2.7/site-packages/matplotlib/font_manager.py:273: UserWarning: Matplotlib is building the font cache using fc-list. This may take a moment.\n",
      "  warnings.warn('Matplotlib is building the font cache using fc-list. This may take a moment.')\n"
     ]
    }
   ],
   "source": [
    "import os\n",
    "import pyspark.mllib\n",
    "import numpy as np\n",
    "import matplotlib.pyplot\n",
    "import seaborn as sns\n",
    "import pyspark\n",
    "\n",
    "from pyspark import SparkConf, SparkContext\n",
    "from pyspark.sql import SQLContext, SparkSession, Row\n",
    "from pyspark.sql.types import *\n",
    "from pyspark.sql.functions import *\n",
    "from pyspark.mllib.regression import LinearRegressionWithSGD\n",
    "from pyspark.mllib.regression import LabeledPoint\n",
    "from IPython.display import display, HTML"
   ]
  },
  {
   "cell_type": "code",
   "execution_count": 2,
   "metadata": {},
   "outputs": [],
   "source": [
    "# initialize streaming context\n",
    "conf = SparkConf().setMaster(\"local[2]\").setAppName(\"AutoRegression\")\n",
    "\n",
    "sc = SparkContext(conf=conf)\n",
    "sc.setLogLevel(\"ERROR\")\n",
    "sqlContext = SQLContext(sc)\n",
    "spark = SparkSession.builder.appName(\"spark play\").getOrCreate()"
   ]
  },
  {
   "cell_type": "markdown",
   "metadata": {},
   "source": [
    "- Attached file auto_mpg_original.csv contains a set of data on automobile characteristics and fuel consumption.\n",
    "- File auto_mpg_description.csv contains the description of the data.\n",
    "- Find all null values in all numerical columns. Replace nulls, if any, with average values for respective columns using Spark Data Frame API.\n",
    "- Import data into Spark."
   ]
  },
  {
   "cell_type": "code",
   "execution_count": 3,
   "metadata": {},
   "outputs": [
    {
     "name": "stdout",
     "output_type": "stream",
     "text": [
      "+------------+---------+---------+------------+----------+----------+---+------+------+\n",
      "|acceleration| car_name|cylinders|displacement|horsepower|model_year|mpg|origin|weight|\n",
      "+------------+---------+---------+------------+----------+----------+---+------+------+\n",
      "|          12|chevrolet|        8|         307|       130|        70| 18|     1|  3504|\n",
      "|        11.5|    buick|        8|         350|       165|        70| 15|     1|  3693|\n",
      "|          11| plymouth|        8|         318|       150|        70| 18|     1|  3436|\n",
      "|          12|      amc|        8|         304|       150|        70| 16|     1|  3433|\n",
      "|        10.5|     ford|        8|         302|       140|        70| 17|     1|  3449|\n",
      "+------------+---------+---------+------------+----------+----------+---+------+------+\n",
      "only showing top 5 rows\n",
      "\n",
      "None\n"
     ]
    }
   ],
   "source": [
    "path = \"file:////Users/swaite/Stirling/CSIE-63/assignment-7/data/auto_mpg_original-1.csv\"\n",
    "mapped_auto_rdd = sc.textFile(path, use_unicode=False) \\\n",
    "                    .map(lambda x: x.split(\",\"))\\\n",
    "                    .filter(lambda x: (x[0] > 0) & (x[3] > 0))\\\n",
    "                    .map(lambda x: Row(\n",
    "                        mpg=x[0],\n",
    "                        cylinders=x[1],\n",
    "                        displacement=x[2],\n",
    "                        horsepower=x[3],\n",
    "                        weight=x[4],\n",
    "                        acceleration=x[5],\n",
    "                        model_year=x[6],\n",
    "                        origin=x[7],\n",
    "                        car_name=x[8]\n",
    "                    ))\\\n",
    "                    .toDF()\n",
    "        \n",
    "print(mapped_auto_rdd.show(5))"
   ]
  },
  {
   "cell_type": "markdown",
   "metadata": {},
   "source": [
    "- Randomly select 10-20% of you data for testing and use remaining data for training."
   ]
  },
  {
   "cell_type": "code",
   "execution_count": 4,
   "metadata": {},
   "outputs": [
    {
     "name": "stdout",
     "output_type": "stream",
     "text": [
      "training_data count: 334\n",
      "testing_data count: 72\n",
      "mapped_auto_rdd count: 406\n"
     ]
    }
   ],
   "source": [
    "training_data, testing_data = mapped_auto_rdd.randomSplit([.8, .2], seed=1234)\n",
    "print(\"training_data count: \" + str(training_data.count()))\n",
    "print(\"testing_data count: \" + str(testing_data.count()))\n",
    "print(\"mapped_auto_rdd count: \" + str(mapped_auto_rdd.count()))"
   ]
  },
  {
   "cell_type": "code",
   "execution_count": null,
   "metadata": {
    "collapsed": true
   },
   "outputs": [],
   "source": []
  }
 ],
 "metadata": {
  "kernelspec": {
   "display_name": "Python 2",
   "language": "python",
   "name": "python2"
  },
  "language_info": {
   "codemirror_mode": {
    "name": "ipython",
    "version": 2
   },
   "file_extension": ".py",
   "mimetype": "text/x-python",
   "name": "python",
   "nbconvert_exporter": "python",
   "pygments_lexer": "ipython2",
   "version": "2.7.11"
  }
 },
 "nbformat": 4,
 "nbformat_minor": 2
}
